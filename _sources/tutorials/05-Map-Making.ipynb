{
 "cells": [
  {
   "cell_type": "markdown",
   "metadata": {},
   "source": [
    "# Map Tutorial in R\n",
    "\n",
    "<br>\n",
    "\n",
    " This tutorial is designed to get you started with creating spatial maps in R with vector and raster data.\n",
    "  \n",
    " The tutorial’s objectives include learning how to: \n",
    " * Understand the advantages of using tmap vs ggplot in R for map creation\n",
    " * Add specific mapping features such as a compass and scale to maps\n",
    " * Learn how to position legends on maps \n",
    " * Review important aesthetic features of a map \n",
    " * Plot multiple plots onto a map  \n",
    "\n",
    "\n",
    "<br>\n",
    "\n",
    "## Analysis Preparation\n",
    "\n",
    "### Install and load the relevant packages\n",
    "\n",
    "All of these libraries should have been previously installed during the environment set-up, if they have not been installed already you can use ```install.packages(c('sf', 'dplyr', 'tmap', 'leaflet', 'ggplot2'))```. If you are running this tutorial locally, you may have to install tmap and leaflet."
   ]
  },
  {
   "cell_type": "code",
   "execution_count": 2,
   "metadata": {},
   "outputs": [
    {
     "name": "stderr",
     "output_type": "stream",
     "text": [
      "Warning message:\n",
      "\"package 'dplyr' was built under R version 3.6.2\""
     ]
    },
    {
     "ename": "ERROR",
     "evalue": "Error: package or namespace load failed for 'dplyr' in loadNamespace(i, c(lib.loc, .libPaths()), versionCheck = vI[[i]]):\n namespace 'rlang' 0.4.2 is already loaded, but >= 0.4.6 is required\n",
     "output_type": "error",
     "traceback": [
      "Error: package or namespace load failed for 'dplyr' in loadNamespace(i, c(lib.loc, .libPaths()), versionCheck = vI[[i]]):\n namespace 'rlang' 0.4.2 is already loaded, but >= 0.4.6 is required\nTraceback:\n",
      "1. library(dplyr)",
      "2. tryCatch({\n .     attr(package, \"LibPath\") <- which.lib.loc\n .     ns <- loadNamespace(package, lib.loc)\n .     env <- attachNamespace(ns, pos = pos, deps, exclude, include.only)\n . }, error = function(e) {\n .     P <- if (!is.null(cc <- conditionCall(e))) \n .         paste(\" in\", deparse(cc)[1L])\n .     else \"\"\n .     msg <- gettextf(\"package or namespace load failed for %s%s:\\n %s\", \n .         sQuote(package), P, conditionMessage(e))\n .     if (logical.return) \n .         message(paste(\"Error:\", msg), domain = NA)\n .     else stop(msg, call. = FALSE, domain = NA)\n . })",
      "3. tryCatchList(expr, classes, parentenv, handlers)",
      "4. tryCatchOne(expr, names, parentenv, handlers[[1L]])",
      "5. value[[3L]](cond)",
      "6. stop(msg, call. = FALSE, domain = NA)"
     ]
    }
   ],
   "source": [
    "library(sf)\n",
    "library(raster)\n",
    "library(dplyr)\n",
    "library(tmap)  \n",
    "library(leaflet) \n",
    "library(ggplot2)\n",
    "\n",
    "source('../scripts/helpers.R') # helper script, note that '../' is used to change into the directory above the directory this notebook is in"
   ]
  },
  {
   "cell_type": "markdown",
   "metadata": {},
   "source": [
    "<br>\n",
    "\n",
    "tmaps is the primary package used throughout this tutorial. It is flexible map-making package whose syntax is readible and mirrors that of ggplot to create attractive maps. \n",
    "\n",
    "Unlike ggplot, tmaps can take on multiple forms of spatial objects with ease. To examine the functions of this package we will incorporate the vector and raster files used in tutorials 3 and 4. Once the map-making skills have been developed, they can be used in conjunction with the spatial analysis tools developed in the prior tutorials to create maps much more detailed and meaningful than those created in this tutorial."
   ]
  },
  {
   "cell_type": "markdown",
   "metadata": {},
   "source": [
    "<br>\n",
    "\n",
    "### Loading Data\n",
    "\n",
    "We'll start by again checking to see if we need to download any data"
   ]
  },
  {
   "cell_type": "code",
   "execution_count": null,
   "metadata": {},
   "outputs": [],
   "source": [
    "download_data()"
   ]
  },
  {
   "cell_type": "markdown",
   "metadata": {},
   "source": [
    "<br>\n",
    "\n",
    "### Download the data:"
   ]
  },
  {
   "cell_type": "code",
   "execution_count": null,
   "metadata": {},
   "outputs": [],
   "source": [
    "countries <- read_sf(\"../data/africa/countries.shp\")\n",
    "zambia <- subset(countries, countries$NAME == 'Zambia')\n",
    "land_cover <- raster('../data/africa/land_cover.tif')\n",
    "\n",
    "# we can then crop the land_use raster to Zambia's extent as in tutorial 4\n",
    "land_cover_zambia <- crop(land_cover, zambia)\n",
    "land_cover_zambia <- mask(land_cover_zambia, zambia)\n",
    "\n",
    "# determine the CRS \n",
    "st_crs(countries)"
   ]
  },
  {
   "cell_type": "markdown",
   "metadata": {},
   "source": [
    "<br>\n",
    "\n",
    "It is necessary to project the files onto the same CRSs. \n",
    "\n",
    "When running the line 'st_crs(countries)', it can be seen that the CRS connected to the data is WGS 84. This means that its default is a geographical reference system, giving it the units of degrees. \n",
    "\n",
    "A crucial component of a map is its scale bar, this contextualises the map as we will see later in the tutorial. It is therefore necessary to project the spatial objects to convert the units into meters such that the units are meaningful. In this context, UTM 35s is an ideal projection for Southern Africa. "
   ]
  },
  {
   "cell_type": "code",
   "execution_count": null,
   "metadata": {},
   "outputs": [],
   "source": [
    "# define the relevant CRS\n",
    "crs <- '+proj=utm +zone=35 +south +datum=WGS84 +units=m +no_defs' \n",
    "\n",
    "# convert the sf objects \n",
    "countries_utm35s <- st_transform(countries, crs=crs)\n",
    "zambia_utm35s <- st_transform(zambia, crs=crs)\n",
    "\n",
    "# convert the raster object \n",
    "land_cover_zambia_utm35s <- projectRaster(land_cover_zambia, crs=crs)\n"
   ]
  },
  {
   "cell_type": "markdown",
   "metadata": {},
   "source": [
    "<br>\n",
    "\n",
    "For a visual comparison of the same objects being present by ggplot2 and tmaps use the code below. \n",
    "\n",
    "ggplot easily reads sf objects by using geom_sf(). Characteristics can then be defined in the same line. And subsequent layers added. \n",
    "\n",
    "tmaps defines the layer through the tm_shape() function. Characteristics are then added sequentionally through various tm_* functions. In application, * can take the form of 'fill', 'borders' and 'polygons' to name a few. \n",
    "\n",
    "New shape layers can be added similarly to ggplot, where the most recent line is presented as the top layer. All subsequent tm_* commands correspond to the most recent tm_shape() layer. "
   ]
  },
  {
   "cell_type": "code",
   "execution_count": null,
   "metadata": {},
   "outputs": [],
   "source": [
    "# continent & country outlines can be represented through ggplot as:\n",
    "ggplot() +\n",
    "  geom_sf(data = countries_utm35s, color = 'black', fill = 'antiquewhite') +\n",
    "  theme_bw()\n",
    "\n",
    "# equivelant representation through tmaps\n",
    "# showing layer development\n",
    "##\n",
    "# add fill with default colouring\n",
    "tm_shape(countries_utm35s) +\n",
    "  tm_fill() \n",
    "# add border layer only to the map\n",
    "tm_shape(countries_utm35s) +\n",
    "  tm_borders() \n",
    "# combine these two for a more complete representation\n",
    "tm_shape(countries_utm35s) +\n",
    "  tm_fill() +\n",
    "  tm_borders() \n",
    "# this can also be achieved through tm_polygons()  \n",
    "tm_shape(countries_utm35s) + \n",
    "  tm_polygons()\n",
    "# you can add detail to each layer  \n",
    "tm_shape(countries_utm35s) +\n",
    "  tm_fill(col = 'green') +\n",
    "  tm_borders(col = 'red')\n",
    "tm_shape(countries_utm35s) +\n",
    "  tm_fill(col = 'antiquewhite') +\n",
    "  tm_borders(col = 'black')\n",
    "# selecting a complimentary combination of colours for the map can benefit its readibility significantly\n",
    "# i.e., not using vivid greens and reds"
   ]
  },
  {
   "cell_type": "markdown",
   "metadata": {},
   "source": [
    "<br>\n",
    "\n",
    "The addition of new layers can be shown by plotting the zambia layer on top of the countries layer. \n",
    "\n",
    "New shapes can be added sequentially with a new tm_shape() component. The package applies commands hierarchally where all prompts after a new tm_shape()layer apply to the the most recent shape layer\n"
   ]
  },
  {
   "cell_type": "code",
   "execution_count": null,
   "metadata": {},
   "outputs": [],
   "source": [
    "# highlighting Zambia representated through ggplot\n",
    "ggplot() +\n",
    "  geom_sf(data = countries_utm35s, color = 'black', fill = 'antiquewhite') +\n",
    "  geom_sf(data = zambia_utm35s, color = 'white', fill = 'orange') +\n",
    "  theme_bw()\n",
    "\n",
    "# represented through tmaps\n",
    "tm_shape(countries_utm35s) +\n",
    "  tm_fill(col = 'antiquewhite') +\n",
    "  tm_borders(col = 'black') +\n",
    "  tm_shape(zambia_utm35s) +\n",
    "  tm_fill(col = 'orange') +\n",
    "  tm_borders(col = 'white')"
   ]
  },
  {
   "cell_type": "markdown",
   "metadata": {},
   "source": [
    "<br>\n",
    "\n",
    "R can have a hard time processing large raster files. Because of this it is necessary that we focus on small areas to help run this tutorial quickly. For this, we can reduce the size of the countries file to match the extent of the zambia file. "
   ]
  },
  {
   "cell_type": "code",
   "execution_count": null,
   "metadata": {},
   "outputs": [],
   "source": [
    "# determining the extent of the zambia file\n",
    "ext_zamb <- extent(zambia_utm35s)\n",
    "xmin <- ext_zamb[1] - 100000\n",
    "xmax <- ext_zamb[2] + 100000\n",
    "ymin <- ext_zamb[3] - 100000\n",
    "ymax <- ext_zamb[4] + 100000 # we change the extent to buffer around the country\n",
    "\n",
    "reduced_countries_utm35s <- st_crop(countries_utm35s, xmin=xmin, xmax=xmax, ymin=ymin, ymax=ymax)\n"
   ]
  },
  {
   "cell_type": "markdown",
   "metadata": {},
   "source": [
    "<br>\n",
    "\n",
    "Again, this can be represented through ggplot and a layered tmaps. "
   ]
  },
  {
   "cell_type": "code",
   "execution_count": null,
   "metadata": {},
   "outputs": [],
   "source": [
    "# represented through ggplot\n",
    "ggplot() +\n",
    "  geom_sf(data = reduced_countries_utm35s, color = 'black', fill = 'antiquewhite') +\n",
    "  geom_sf(data = zambia_utm35s, color = 'white', fill = 'orange') +\n",
    "  theme_bw()\n",
    "\n",
    "# represented through tmaps\n",
    "tm_shape(reduced_countries_utm35s) +\n",
    "  tm_fill(col = 'antiquewhite') +\n",
    "  tm_borders(col = 'black') +\n",
    "  tm_shape(zambia_utm35s) +\n",
    "  tm_fill(col = 'orange') +\n",
    "  tm_borders(col = 'white')"
   ]
  },
  {
   "cell_type": "markdown",
   "metadata": {},
   "source": [
    "<br>\n",
    "\n",
    "Further information can be added other than colour. Some common uses are:\n",
    "\n",
    "1. Transparancy (alpha = *)\n",
    "2. Linewidth (lwd = *)\n",
    "3. Linetype (lty = *)\n",
    "\n",
    "You can also save the maps as an object to be added to later in the process. This allows you to keep multiple versions of the map with new layer additions. This is efficient as it means you can change the odd line of code simply rather than route through many lines of layers. The objects saved as class \"tmap\" and can be plotted using the print() function. "
   ]
  },
  {
   "cell_type": "code",
   "execution_count": null,
   "metadata": {},
   "outputs": [],
   "source": [
    "map_zambia_one <- tm_shape(reduced_countries_utm35s) +\n",
    "  tm_fill(col = 'antiquewhite') +\n",
    "  tm_borders(col = 'black') +\n",
    "  tm_shape(zambia_utm35s) +\n",
    "  tm_fill(col = 'orange') +\n",
    "  tm_borders(col = 'white', lwd = 3)\n",
    "class(map_zambia_one)\n",
    "print(map_zambia_one)"
   ]
  },
  {
   "cell_type": "markdown",
   "metadata": {},
   "source": [
    "<br>\n",
    "\n",
    "The difference between the ggplot representations and tmaps representations comes when adding a raster layer. This can be done using tm_raster as in the following lines of code. \n",
    "\n",
    "First the tm_shape() must be defined with the raster object within it, then the tm_raster() function must be defined. It is the raster function that controls the appearance of the layer. General parameters can be controlled using the tm_layout() function:"
   ]
  },
  {
   "cell_type": "code",
   "execution_count": null,
   "metadata": {},
   "outputs": [],
   "source": [
    "map_zambia_two <- map_zambia_one + \n",
    "  tm_shape(land_cover_zambia_utm35s) + \n",
    "  tm_raster()\n",
    "print(map_zambia_two)"
   ]
  },
  {
   "cell_type": "markdown",
   "metadata": {},
   "source": [
    "<br>\n",
    "\n",
    "There are couple of things wrong with this plot. \n",
    "\n",
    "First of all, the legend interferes with features on the map making it unclear. You can move the legend either by using the 'legend.position = *' element by specifying its location with commands like 'left', 'right', 'top' and 'bottom'. Alternatively, you can use 'legend.outside = TRUE' to take the legend outside of the map. \n",
    "\n",
    "Secondly, the legend title is defaulted as the column title, this can make it ugly. Within the tm_raster() function the legend title can be defined by using 'title = *'.\n",
    "\n",
    "Finally, the color doesn't fit the information. The default colour ramp of yellow-red is suitable for attributes such as solar irradiance. However, a green colour ramp is much better suited for land coverage. "
   ]
  },
  {
   "cell_type": "code",
   "execution_count": null,
   "metadata": {},
   "outputs": [],
   "source": [
    "# editting the legend\n",
    "map_zambia_two <- map_zambia_one + \n",
    "  tm_shape(land_cover_zambia_utm35s) + \n",
    "  tm_raster() +\n",
    "  tm_layout(legend.position = c('right', 'bottom'))\n",
    "print(map_zambia_two)\n",
    "map_zambia_two <- map_zambia_one + \n",
    "  tm_shape(land_cover_zambia_utm35s) + \n",
    "  tm_raster() +\n",
    "  tm_layout(legend.outside = TRUE)\n",
    "print(map_zambia_two)\n",
    "\n",
    "# Editing the legend title & changing the colour theme\n",
    "legend <- paste('Land Cover')\n",
    "map_zambia_two <- map_zambia_one + \n",
    "  tm_shape(land_cover_zambia_utm35s) + \n",
    "  tm_raster(title = legend, palette = 'Greens') +\n",
    "  tm_layout(legend.outside = TRUE)\n",
    "print(map_zambia_two)"
   ]
  },
  {
   "cell_type": "markdown",
   "metadata": {},
   "source": [
    "<br>\n",
    "\n",
    "\n",
    "You can plot maps side-by-side by using the tmap_arrange() function. This is a useful way to assess progress or to compare feature choices to determine which option works best. "
   ]
  },
  {
   "cell_type": "code",
   "execution_count": null,
   "metadata": {},
   "outputs": [],
   "source": [
    "tmap_arrange(map_zambia_one, map_zambia_two)"
   ]
  },
  {
   "cell_type": "markdown",
   "metadata": {},
   "source": [
    "<br>\n",
    "\n",
    "Two vital map elements are a compass, to orientate the map to the viewer, and the scale bar, to contextualise the distance/separation. \n",
    "\n",
    "You can edit the characteristics of these elements. Some examples are shown below. \n",
    "\n",
    "The arrow type, and position can be edited easily. The compasses position depends on the map's composition and is best to avoid cluttered areas.  \n",
    "\n",
    "Scale bars automatically adjust their size based on your specified distance. The units of the inputs are meters, as per the projected CRS."
   ]
  },
  {
   "cell_type": "code",
   "execution_count": null,
   "metadata": {},
   "outputs": [],
   "source": [
    "# compass elements\n",
    "# position\n",
    "map_zambia_two + \n",
    "  tm_compass(position = c('left', 'top'))\n",
    "map_zambia_two + \n",
    "  tm_compass(position = c('left', 'bottom'))\n",
    "# compass type\n",
    "map_zambia_two + \n",
    "  tm_compass(type = '4star', position = c('left', 'top'))\n",
    "map_zambia_two + \n",
    "  tm_compass(type = '8star', position = c('left', 'top'))\n",
    "    \n",
    "# scale bar size \n",
    "map_zambia_two + \n",
    "  tm_scale_bar(breaks = c(0, 100, 200))\n",
    "map_zambia_two + \n",
    "  tm_scale_bar(breaks = c(0, 250, 500))"
   ]
  },
  {
   "cell_type": "markdown",
   "metadata": {},
   "source": [
    "<br>\n",
    "\n",
    "These elements can be edited further. The color, size and alpha of the elements are shown below:"
   ]
  },
  {
   "cell_type": "code",
   "execution_count": null,
   "metadata": {},
   "outputs": [],
   "source": [
    "map_zambia_two + \n",
    "  tm_compass(type = '8star', position = c('left', 'top'), bg.color = 'red')\n",
    "map_zambia_two + \n",
    "  tm_compass(type = '8star', position = c('left', 'top'), bg.color = 'red', size = 10)\n",
    "map_zambia_two + \n",
    "  tm_compass(type = '8star', position = c('left', 'top'), bg.color = 'red', size = 10, bg.alpha = 0.5)\n",
    "\n",
    "map_zambia_two + \n",
    "  tm_scale_bar(breaks = c(0, 200, 400), bg.color = 'blue', bg.alpha = 0.25)\n"
   ]
  },
  {
   "cell_type": "markdown",
   "metadata": {},
   "source": [
    "<br>\n",
    "\n",
    "\n",
    "Map elements can have titles added can be added to the map in the tm_layout() function. The legend title can be changed using the 'title = *' elements. Title characteristics cam ne modified using 'title.* =' where the *, in this case, can be replaced with color, size and position among others. \n",
    "\n",
    "The map's main title can be defined using 'main.title = *'. Similarly to before, the title's characteristics are defined using 'main.title.* =', where * can also be replaced with color, size and position among others.\n",
    "\n",
    "They can also be used in conjunction for extra detaul. "
   ]
  },
  {
   "cell_type": "code",
   "execution_count": 1,
   "metadata": {},
   "outputs": [
    {
     "ename": "SyntaxError",
     "evalue": "invalid syntax (<ipython-input-1-7e0fa539e59b>, line 1)",
     "output_type": "error",
     "traceback": [
      "\u001b[1;36m  File \u001b[1;32m\"<ipython-input-1-7e0fa539e59b>\"\u001b[1;36m, line \u001b[1;32m1\u001b[0m\n\u001b[1;33m    map_zambia_two +\u001b[0m\n\u001b[1;37m                    ^\u001b[0m\n\u001b[1;31mSyntaxError\u001b[0m\u001b[1;31m:\u001b[0m invalid syntax\n"
     ]
    }
   ],
   "source": [
    "# types of titles \n",
    "map_zambia_two +\n",
    "  tm_layout(title = 'Legend')\n",
    "    \n",
    "map_zambia_two +\n",
    "  tm_layout(main.title = 'Zambia Test Map')\n",
    "\n",
    "\n",
    "map_zambia_two +\n",
    "  tm_layout(main.title = 'Zambia Test Map', \n",
    "            title = 'Legend:')\n",
    "    \n",
    "# title characteristics \n",
    "map_zambia_two +\n",
    "  tm_layout(main.title = 'Zambia Test Map', main.title.size = 2, main.title.position = c('right', 'top'), \n",
    "            main.title.color = 'red', main.title.fontface = 'bold')\n"
   ]
  },
  {
   "cell_type": "markdown",
   "metadata": {},
   "source": [
    "<br>\n",
    "\n",
    "The map's border can be removed using the following code. This can help improve the map's neatness. "
   ]
  },
  {
   "cell_type": "code",
   "execution_count": null,
   "metadata": {},
   "outputs": [],
   "source": [
    "map_zambia_two +\n",
    "  tm_layout(frame = FALSE)"
   ]
  },
  {
   "cell_type": "markdown",
   "metadata": {},
   "source": [
    "<br>\n",
    "\n",
    "All of these elements together can be used to produce a map of reasonable complexity. "
   ]
  },
  {
   "cell_type": "code",
   "execution_count": null,
   "metadata": {},
   "outputs": [],
   "source": [
    "map_zambia_three <- map_zambia_two + \n",
    "  tm_compass(type = '8star', position = c('left', 'top'), bg.color = 'black', bg.alpha = 0.5, size = 2) + \n",
    "  tm_scale_bar(breaks = c(0, 200, 400), bg.color = 'black', bg.alpha = 0.5) +\n",
    "  tm_layout(main.title = 'Zambia Test Map', main.title.size = 2, main.title.position = c('left', 'top'), main.title.fontface = 'bold', \n",
    "            title = 'Legend:', title.size = 1.5, \n",
    "            frame = FALSE)\n",
    "print(map_zambia_three)"
   ]
  },
  {
   "cell_type": "markdown",
   "metadata": {},
   "source": [
    "<br>\n",
    "\n",
    "Further shape layers can be added through more tm_shape() layers. Following the mechanism in tutorial 3, the cities inside Zambia can be identified. "
   ]
  },
  {
   "cell_type": "code",
   "execution_count": null,
   "metadata": {},
   "outputs": [],
   "source": [
    "cities <- read_sf(\"data/africa/cities.shp\")\n",
    "cities_utm35s <- st_transform(cities, crs=crs)\n",
    "cities_utm35s_intersect <- st_intersects(cities_utm35s, zambia_utm35s, sparse=FALSE)\n",
    "\n",
    "intersected_cities_idxs <- which(cities_utm35s_intersect)\n",
    "\n",
    "idx <- intersected_cities_idxs[1]\n",
    "cities_utm35s[idx, 'COUNTRY']\n",
    "\n",
    "zambia_cities_utm35s <- cities_utm35s[intersected_cities_idxs, ]"
   ]
  },
  {
   "cell_type": "markdown",
   "metadata": {},
   "source": [
    "<br>\n",
    "\n",
    "These can be represented in an analogous way to ggplot. "
   ]
  },
  {
   "cell_type": "code",
   "execution_count": null,
   "metadata": {},
   "outputs": [],
   "source": [
    "map_zambia_two + \n",
    "  tm_shape(zambia_cities_utm35s) +\n",
    "  tm_symbols(col = 'black', size = 0.5, border.col = 'white', shape = 22)\n"
   ]
  },
  {
   "cell_type": "markdown",
   "metadata": {},
   "source": [
    "<br>\n",
    "\n",
    "This additional layer will be shown using the mechanisms stated previously. It is often useful to plot the shape layer to represent a characteristic of the layer.\n",
    "\n",
    "Before being added to the map, we find the large cities within Zambia. In this case, large cities is defined as all cities that had a population of 50,000 or greater in 1990. \n",
    "\n",
    "This, however, makes the map untidy. In order to make the legend neater, the ES90POP column can be edited to show the population in thousdands or millions of people. It is an elemment of the map that significant figures must be suitable for the map's purpose. \n",
    "\n",
    "It is important that the legend titles, given by 'title.size = *', must readible. If the line is too long, automatically reducing the fontsize, the symbol '\\n' can be used to create a new line. \n",
    "\n",
    "Both cases, thousands and millions, are shown below. "
   ]
  },
  {
   "cell_type": "code",
   "execution_count": null,
   "metadata": {},
   "outputs": [],
   "source": [
    "# subsetting the df to be only the 'big' cities \n",
    "# populations of 50,000+ in 1990\n",
    "zambia_big_cities_utm35s <- subset(zambia_cities_utm35s, zambia_cities_utm35s$ES90POP > 50000)\n",
    "map_zambia_two + \n",
    "  tm_shape(zambia_big_cities_utm35s) +\n",
    "  tm_symbols(col = 'black', size = 'ES90POP', border.col = 'white', shape = 22, \n",
    "             title.size = '1990s Population')\n",
    "# significant figures are important to keep the map neat\n",
    "\n",
    "# population as thousands of people\n",
    "zambia_big_cities_utm35s$ES90POP_neat_thous <- zambia_big_cities_utm35s$ES90POP/1000\n",
    "map_zambia_two + \n",
    "  tm_shape(zambia_big_cities_utm35s) +\n",
    "  tm_symbols(col = 'black', size = 'ES90POP_neat_thous', border.col = 'white', shape = 22, \n",
    "             title.size = '1990s Population (thousand)')\n",
    "\n",
    "# the above map makes the legen title undreadable \n",
    "# '\\n' creates a new line\n",
    "map_zambia_two + \n",
    "  tm_shape(zambia_big_cities_utm35s) +\n",
    "  tm_symbols(col = 'black', size = 'ES90POP_neat_thous', border.col = 'white', shape = 22, \n",
    "             title.size = '1990s Population \\n(thousands)')\n",
    "\n",
    "# population as millions of people\n",
    "zambia_big_cities_utm35s$ES90POP_neat_mil <- zambia_big_cities_utm35s$ES90POP/1000000\n",
    "map_zambia_two + \n",
    "  tm_shape(zambia_big_cities_utm35s) +\n",
    "  tm_symbols(col = 'black', size = 'ES90POP_neat_mil', border.col = 'white', shape = 22, \n",
    "             title.size = '1990s Population \\n(million)')\n"
   ]
  },
  {
   "cell_type": "markdown",
   "metadata": {},
   "source": [
    "<br>\n",
    "\n",
    "These can be combine to form an even more complete map."
   ]
  },
  {
   "cell_type": "code",
   "execution_count": null,
   "metadata": {},
   "outputs": [],
   "source": [
    "map_zambia_four <- map_zambia_three + \n",
    "  tm_shape(zambia_big_cities_utm35s) +\n",
    "  tm_symbols(col = 'black', size = 'ES90POP_neat_mil', border.col = 'white', shape = 22, \n",
    "             title.size = '1990s Population \\n(million)')\n",
    "print(map_zambia_four)"
   ]
  },
  {
   "cell_type": "markdown",
   "metadata": {},
   "source": [
    "<br>\n",
    "\n",
    "The stages of the map-building process can be observed by plotting the four map iterations side-by-side. "
   ]
  },
  {
   "cell_type": "code",
   "execution_count": null,
   "metadata": {},
   "outputs": [],
   "source": [
    "tmap_arrange(map_zambia_one, map_zambia_two, map_zambia_three, map_zambia_four)"
   ]
  },
  {
   "cell_type": "markdown",
   "metadata": {},
   "source": [
    "<br>\n",
    "The map can be saved from R as a .svg, .pdf, .jpeg and ,tif files. These are completed as:\n",
    "\n",
    "1. tmap_save(map_zambia_four, filename=\"map_zambia_four.svg\", height=8.5, width=11, units=\"in\", dpi=300) \n",
    "2. tmap_save(map_zambia_four, filename=\"map_zambia_four.pdf\", height=8.5, width=11, units=\"in\", dpi=300)\n",
    "3. tmap_save(map_zambia_four, filename=\"map_zambia_four.jpeg\", height=8.5, width=11, units=\"in\", dpi=300)\n",
    "4. tmap_save(map_zambia_four, filename=\"map_zambia_four.tiff\", height=8.5, width=11, units=\"in\", dpi=300)\n",
    "\n",
    "In which circumstances would you use each file type?\n",
    "\n",
    "it is useful to note that defining the size of the features gives them an absolute size regardless of the map's size. So, always bear this in mind before exporting the file as the elements can come out in different formats. \n",
    "\n",
    "For this example, please assess the difference between the following saves pdf's. \n"
   ]
  },
  {
   "cell_type": "code",
   "execution_count": null,
   "metadata": {},
   "outputs": [],
   "source": [
    "tmap_save(map_zambia_four, filename=\"map_zambia_four_small.pdf\", height=4, width=5, units=\"in\", dpi=300)\n",
    "tmap_save(map_zambia_four, filename=\"map_zambia_four_big.pdf\", height=8.5, width=11, units=\"in\", dpi=300)\n"
   ]
  },
  {
   "cell_type": "markdown",
   "metadata": {},
   "source": [
    "### Further Reading:\n",
    "\n",
    "The following are links that motivated this tutorial:\n",
    "\n",
    "1. https://cran.r-project.org/web/packages/cartography/vignettes/cartography.html\n",
    "2. https://geocompr.robinlovelace.net/adv-map.html#introduction-5\n",
    "3. https://www.youtube.com/watch?v=GMi1ThlGFMo&ab_channel=InfoWorld\n",
    "4. http://www.wvview.org/spatial_analytics/Visualizing_Spatial_Data/_site/Visualize_Spatial_Data.html#write-to-file\n"
   ]
  },
  {
   "cell_type": "code",
   "execution_count": null,
   "metadata": {},
   "outputs": [],
   "source": []
  }
 ],
 "metadata": {
  "kernelspec": {
   "display_name": "R",
   "language": "R",
   "name": "python371jvsc74a57bd012d4490512a6ec6f0f5e8b622d01a0c041ca847f552e9c5b36c78ba904c4cfd8"
  },
  "language_info": {
   "codemirror_mode": "r",
   "file_extension": ".r",
   "mimetype": "text/x-r-source",
   "name": "R",
   "pygments_lexer": "r",
   "version": "3.6.1"
  }
 },
 "nbformat": 4,
 "nbformat_minor": 4
}
